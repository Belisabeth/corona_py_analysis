{
 "cells": [
  {
   "cell_type": "code",
   "execution_count": 1,
   "metadata": {},
   "outputs": [],
   "source": [
    "import numpy as np\n",
    "from scipy.integrate import odeint\n",
    "import matplotlib.pyplot as plt\n",
    "import datetime\n",
    "import matplotlib.dates as mdates"
   ]
  },
  {
   "cell_type": "code",
   "execution_count": 2,
   "metadata": {},
   "outputs": [],
   "source": [
    "from ipywidgets import interactive\n",
    "import ipywidgets as widgets"
   ]
  },
  {
   "cell_type": "code",
   "execution_count": 3,
   "metadata": {},
   "outputs": [],
   "source": [
    "def sigmoid(t):\n",
    "    y = 1/ (1+np.exp(-1*t))\n",
    "    return y"
   ]
  },
  {
   "cell_type": "code",
   "execution_count": 4,
   "metadata": {},
   "outputs": [],
   "source": [
    "def getSum(tx):\n",
    "    s=0\n",
    "    ty=()\n",
    "    for x in tx:\n",
    "        s=s+x\n",
    "        ty = ty + (s,)\n",
    "    return ty\n",
    "def getContact(cx,tx,t):\n",
    "    s=0\n",
    "    ty=getSum(tx)\n",
    "    i=0\n",
    "    y=0#fillnull(len(t))\n",
    "    while i<len(cx)-1:\n",
    "        y = y+(cx[i]-cx[i+1])*(1-sigmoid(t-ty[i+1]))\n",
    "        i = i+1\n",
    "    y=y+cx[i]\n",
    "    return y\n",
    "def fillnull(A, n):\n",
    "    A = np.concatenate([np.zeros(n-len(A)) , A])\n",
    "    return A"
   ]
  },
  {
   "cell_type": "code",
   "execution_count": 5,
   "metadata": {},
   "outputs": [],
   "source": [
    "# The SIR model differential equations\n",
    "def deriv(y, t, contact0 ,\n",
    "       dayQuarantine1,\n",
    "       contact1,\n",
    "       dayQuarantine2,\n",
    "       contact2,\n",
    "       dayQuarantine3,\n",
    "       contact3 ,infection_probability,\n",
    "      #probabilty to get well without strong symtoms. Meens, the person stays inisolated and from Ia changes to R in the time teta_sym. \n",
    "      asymtom_probability,\n",
    "      #time for Incubation and time for symtoms\n",
    "       teta_inc, teta_sym, \n",
    "        recovery_rate, death_rate,\n",
    "        #natural_death\n",
    "        delta,\n",
    "        #natural_birth\n",
    "        A):\n",
    "        \n",
    "    S, E, Ia, Is, R, Ra, D = y\n",
    "    #sigmoid\n",
    "    cx = (contact0,contact1,contact2,contact3)\n",
    "    tx = (0,dayQuarantine1,dayQuarantine2,dayQuarantine3)\n",
    "    n = getContact(cx,tx,t)\n",
    "    \n",
    "    #susceptible\n",
    "    dSdt = -n*infection_probability*(Ia)/(S+E+Ia+R+Ra) * S + A - delta*S\n",
    "    #Exposed\n",
    "    dEdt = n*infection_probability*(Ia)/(S+E+Ia+R+Ra) * S - 1/teta_inc*E- delta*E \n",
    "    #Infected asymptomatic\n",
    "    dIadt = 1/teta_inc * E - 1/(teta_sym - teta_inc)*Ia - delta*Ia \n",
    "    #Infected symptomatic (quarantine)\n",
    "    dIsdt = 1/(teta_sym - teta_inc)*Ia*(1-asymtom_probability) - recovery_rate * Is - death_rate*Is\n",
    "    #Recovered\n",
    "    dRdt = recovery_rate * Is - delta*R \n",
    "    #Recovered without symptoms\n",
    "    dRadt = 1/(teta_sym - teta_inc) * Ia*asymtom_probability - delta*Ra \n",
    "    #Dead from Desease\n",
    "    dDdt = death_rate * Is\n",
    "    \n",
    "    return dSdt, dEdt, dIadt, dIsdt, dRdt, dRadt, dDdt"
   ]
  },
  {
   "cell_type": "code",
   "execution_count": 6,
   "metadata": {},
   "outputs": [],
   "source": [
    "\n",
    "# A grid of time points (in days)\n",
    "t = np.linspace(0, 350, 351)\n"
   ]
  },
  {
   "cell_type": "code",
   "execution_count": 7,
   "metadata": {},
   "outputs": [],
   "source": [
    "#fig = plt.figure(facecolor='w',figsize=[12,6])\n",
    "#ax = fig.add_subplot(111, axisbelow=True)\n",
    "#ax.set_xlim(0,100)\n",
    "#ax.plot(t, n, 'r', lw=2, label='Sigmoid')"
   ]
  },
  {
   "cell_type": "code",
   "execution_count": 8,
   "metadata": {},
   "outputs": [],
   "source": [
    "def solver( \n",
    "       contact0 ,\n",
    "       dayQuarantine1,\n",
    "       contact1,\n",
    "       dayQuarantine2,\n",
    "       contact2,\n",
    "       dayQuarantine3,\n",
    "       contact3 ,\n",
    "       infection_probability_proz,\n",
    "        asymptom_probability_proz,\n",
    "        teta_inc, teta_sym,recovery_day,death_rate_proz, need_help_proz, bed_capacity):\n",
    "    # Initial conditions vector\n",
    "    y0 = S0, E0, Ia0, Is0, R0, Ra0, D0\n",
    "    recovery_rate = 1/recovery_day\n",
    "    # Integrate the SIR equations over the time grid, t.\n",
    "    args=(contact0 ,\n",
    "   dayQuarantine1,\n",
    "   contact1,\n",
    "   dayQuarantine2,\n",
    "   contact2,\n",
    "   dayQuarantine3,\n",
    "   contact3 ,infection_probability_proz/100, asymptom_probability_proz/100, teta_inc, teta_sym, \n",
    "                                 recovery_rate, death_rate_proz/100,\n",
    "                                delta, A)\n",
    "    ret = odeint(deriv, y0, t, args)\n",
    "    S, E, Ia, Is, R, Ra, D = ret.T\n",
    "    dates = [start_date + datetime.timedelta(xval) for xval in t]\n",
    "    # Plot the data on three separate curves for S(t), E(t(, Ia(t), Is(t) and R(t)\n",
    "    fig = plt.figure(facecolor='w',figsize=[20,30])\n",
    "\n",
    "\n",
    "    #sigmoid\n",
    "    cx = (contact0,contact1,contact2,contact3)\n",
    "    tx = (0,dayQuarantine1,dayQuarantine2,dayQuarantine3)\n",
    "    n = getContact(contact,dayQuarantine,t)\n",
    "    ax0 = fig.add_subplot(313, axisbelow=True)    \n",
    "    ax0.plot(dates, n, color='c', lw=2, label='Contacts Amount')\n",
    "    ax0.set_xlabel('Time /days')\n",
    "    ax0.set_ylabel('Contacts')\n",
    "    ax0.grid(True)\n",
    "    ax0.yaxis.set_tick_params(length=5)\n",
    "    \n",
    "    ax1 = fig.add_subplot(312, axisbelow=True)\n",
    "    ax1.plot(dates, Ia, color='c', lw=2, label='Infected asymtomatic')\n",
    "    ax1.plot(dates, Is, 'tomato', alpha=0.5, lw=2, label='Infected symtomatic')\n",
    "    ax1.plot(dates, need_help_proz/100*Is, color='red', alpha=0.5, lw=4, ls=\"-\", label='Need help')\n",
    "    ax1.plot(dates, R, 'g', alpha=0.5, lw=2, label='Recovered with immunity')\n",
    "    ax1.plot(dates, Ra, 'g', alpha=0.5, lw=2, ls = ':', label='Recovered asymtomatic with immunity')\n",
    "    ax1.plot(dates, D, 'k', alpha=0.5, lw=2, label='Dead')\n",
    "    ax1.set_xlabel('Time /days')\n",
    "    ax1.set_ylabel('Millions')\n",
    "    ax1.grid(True)\n",
    "    ax1.yaxis.set_tick_params(length=5)\n",
    "\n",
    "    ax2 = fig.add_subplot(311, axisbelow=True)\n",
    "    ax2.plot(dates, Ia, color='c', lw=2, label='Infected asymtomatic')\n",
    "    ax2.plot(dates, Is, 'tomato', alpha=0.5, lw=2, label='Infected symtomatic')\n",
    "    ax2.plot(dates, need_help_proz/100*Is, color='red', alpha=0.5, lw=4, ls=\"-\", label='Need help')\n",
    "    ax2.plot(dates, R, 'g', alpha=0.5, lw=2, label='Recovered with immunity')\n",
    "    ax2.plot(dates, Ra, 'g', alpha=0.5, lw=2, ls = ':', label='Recovered asymtomatic with immunity')\n",
    "    ax2.plot(dates, D, 'k', alpha=0.5, lw=2, label='Dead')\n",
    "    ax2.set_xlabel('Time /days')\n",
    "    ax2.set_ylabel('Millions')\n",
    "    ax2.grid(True)\n",
    "    ax2.set_ylim(0, bed_capacity*4)\n",
    "    ax2.set_xlim(start_date,start_date +datetime.timedelta(250))\n",
    "    ax2.yaxis.set_tick_params(length=5)\n",
    "\n",
    "    ax1.xaxis.set_major_locator(mdates.MonthLocator())\n",
    "    ax1.xaxis.set_minor_locator(mdates.DayLocator(bymonthday=(1,5,10,15,20,25,30)))\n",
    "    ax1.xaxis.set_major_formatter(mdates.DateFormatter(\"%b %d\"))\n",
    "\n",
    "    ax2.xaxis.set_major_locator(mdates.MonthLocator())\n",
    "    ax2.xaxis.set_minor_locator(mdates.DayLocator(bymonthday=(1,5,10,15,20,25,30)))\n",
    "    ax2.xaxis.set_major_formatter(mdates.DateFormatter(\"%b %d\"))\n",
    "    \n",
    "    day1 = start_date + datetime.timedelta(dayQuarantine1)\n",
    "    day2 = day1 + datetime.timedelta(dayQuarantine2)\n",
    "    day3 = day2 + datetime.timedelta(dayQuarantine3)\n",
    "    ax1.axvline(x=day1, color = \"k\", label=\"1. Q w. \"+str(contact1) + \"contacts on \" + \n",
    "               str(day1), ls=\":\")\n",
    "    ax1.axvline(x=day2, color = \"b\", label=\"2. Q w. \"+str(contact2)+ \" contacts on \" + \n",
    "               str(day2), ls=\":\")\n",
    "    ax1.axvline(x=day3, color = \"g\", label=\"3. Q w.\"+str(contact3)+ \" contacts on \" + \n",
    "               str(day3), ls=\":\")\n",
    "\n",
    "    ax1.axhline(y=bed_capacity, color = \"k\", lw=3, ls=\"-\", label=\"Bed capacity\")\n",
    "    \n",
    "    ax2.axvline(x=day1, color = \"k\", label=\"1. Q w. \"+str(contact1) + \"contacts on \" + \n",
    "               str(day1), ls=\":\")\n",
    "    ax2.axvline(x=day2, color = \"b\", label=\"2. Q w. \"+str(contact2)+ \" contacts on \" + \n",
    "               str(day2), ls=\":\")\n",
    "    ax2.axvline(x=day3, color = \"g\", label=\"3. Q w.\"+str(contact3)+ \" contacts on \" + \n",
    "               str(day3), ls=\":\")\n",
    "\n",
    "    ax2.axhline(y=bed_capacity, color = \"k\", lw=\"3\", label=\"Bed capacity\")\n",
    "    \n",
    "    #plot reported data\n",
    "    ax2.plot(dates[:len(reported_death)],reported_death,'kx', label='Reported deaths')\n",
    "    ax2.plot(dates[:len(reported_recovered)],reported_recovered,'go', label='Reported recovered')\n",
    "    ax2.plot(dates[:len(reported_infected)],reported_infected,'ro', label='Reported infected')\n",
    "\n",
    "    legend = ax1.legend()\n",
    "    legend = ax2.legend()\n",
    "    ax1.xaxis.set_tick_params(length=5)\n",
    "    plt.show()"
   ]
  },
  {
   "cell_type": "code",
   "execution_count": 9,
   "metadata": {
    "scrolled": false
   },
   "outputs": [],
   "source": [
    "def show_plot():\n",
    "    interactive_plot = interactive(solver, \n",
    "                               contact0 =contact[0],\n",
    "                               dayQuarantine1=dayQuarantine[1],\n",
    "                               contact1 =contact[1],\n",
    "                               dayQuarantine2=dayQuarantine[2],\n",
    "                               contact2 =contact[2],\n",
    "                               dayQuarantine3=dayQuarantine[3],\n",
    "                               contact3 =contact[3],\n",
    "                               \n",
    "                               infection_probability_proz=(round(infection_probability_proz*0.5,0), round(infection_probability_proz*1.5,0),1),\n",
    "                               asymptom_probability_proz=(asymptom_probability_proz*0.5,asymptom_probability_proz*1.5, 5),\n",
    "                               teta_inc = (teta_inc*0.5, teta_inc*1.5,1),\n",
    "                               teta_sym = (teta_sym*0.5, teta_sym*1.5,1),\n",
    "                               recovery_day=(recovery_day*0.5, recovery_day*1.5,1),\n",
    "                               death_rate_proz = (round(death_rate_proz*0.5,1), round(death_rate_proz*1.5,1), 0.1),\n",
    "                               need_help_proz = (need_help_proz*0.5,need_help_proz*1.5,1),\n",
    "                               bed_capacity = (bed_capacity*0.5, bed_capacity*1.5, 1000)\n",
    "                              )\n",
    "    output = interactive_plot.children[-1]\n",
    "    output.layout.height = '1000px'\n",
    "    return interactive_plot"
   ]
  },
  {
   "cell_type": "code",
   "execution_count": null,
   "metadata": {},
   "outputs": [],
   "source": []
  },
  {
   "cell_type": "code",
   "execution_count": 10,
   "metadata": {},
   "outputs": [
    {
     "data": {
      "application/vnd.jupyter.widget-view+json": {
       "model_id": "69ccbf916652455fa0228c92c9a25243",
       "version_major": 2,
       "version_minor": 0
      },
      "text/plain": [
       "interactive(children=(IntSlider(value=35, description='contact0', max=105, min=-35), IntSlider(value=6, descri…"
      ]
     },
     "metadata": {},
     "output_type": "display_data"
    }
   ],
   "source": [
    "##Italy\n",
    "\n",
    "# Total population, N.\n",
    "N = 60.48*1000000\n",
    "#natural death rate\n",
    "delta = 10.6/1000/365\n",
    "#natural birth_rate https://www.macrotrends.net/countries/ITA/italy/birth-rate\n",
    "A = 7.509/1000*N/365 \n",
    "# Initial number of infected and recovered individuals, I0 and R0.\n",
    "E0, Ia0, Is0, R0, Ra0, D0 = 400, 200, 3, 0, 5, 0\n",
    "start_date = datetime.date(2020,2,15)\n",
    "#start 15.02.2020\n",
    "\n",
    "#Italy Data\n",
    "reported_recovered = (0, 0, 0, 0, 0, 2, 3, 4, 5, 6, 48, 49, 53, 86, 152, 163, 279, 417, 526, 592, 625, 727, 1007, 1048, 1069, 1250, 1777, 2146, 2560, 2752, 3836, 4251, 4940, 5883, 6835, 7243, 8137, 9173, 10172, 10761, 12195, 12841)\n",
    "reported_infected = (19, 75, 152, 221, 310, 455, 593, 822, 1049, 1577, 1835, 2263, 2706, 3296, 3916, 5061, 6387, 7985, 8514, 10590, 12839, 14955, 17705, 20603, 23073, 26062, 28710, 33190, 37860, 42681, 46638, 50418, 54030, 57521, 62013, 66414, 70065, 73880)\n",
    "reported_death=(2, 3, 7, 11, 12, 17, 21, 29, 41, 52, 79, 107, 148, 197, 233, 366, 463, 631, 827, 1016, 1266, 1441, 1809, 2158, 2503, 2978, 3405, 4032, 4825, 5476, 6077, 6820, 7503, 8215, 9134, 10023, 10779)\n",
    "last_date = datetime.date(2020,3,29)\n",
    "\n",
    "reported_recovered = fillnull(reported_recovered,abs(last_date - start_date).days)\n",
    "reported_death = fillnull(reported_death,abs(last_date - start_date).days)\n",
    "reported_infected = fillnull(reported_infected,abs(last_date - start_date).days)\n",
    "\n",
    "#q1 : 21.02.2020 in LOMBARDIE\n",
    "#q2 : 09.03.2020 in Italy\n",
    "dayQuarantine=(0,6,17,100) \n",
    "contact=(35,12,5,6)\n",
    "\n",
    "bed_capacity = 28000\n",
    "need_help_proz = 20\n",
    "death_rate_proz = 2\n",
    "\n",
    "infection_probability_proz=4\n",
    "asymptom_probability_proz=60\n",
    "teta_inc = 5\n",
    "teta_sym = 11\n",
    "recovery_day= 21\n",
    "\n",
    "# Everyone else, S0, is susceptible to infection initially.\n",
    "S0 = N - (E0 + Ia0 + Is0 + R0 + D0 + Ra0)\n",
    "show_plot()"
   ]
  },
  {
   "cell_type": "code",
   "execution_count": 14,
   "metadata": {},
   "outputs": [
    {
     "data": {
      "application/vnd.jupyter.widget-view+json": {
       "model_id": "bf76aaa1a3574af38429eaf4606a7886",
       "version_major": 2,
       "version_minor": 0
      },
      "text/plain": [
       "interactive(children=(IntSlider(value=14, description='contact0', max=42, min=-14), IntSlider(value=30, descri…"
      ]
     },
     "metadata": {},
     "output_type": "display_data"
    }
   ],
   "source": [
    "##Germany\n",
    "\n",
    "# Total population, N.\n",
    "N = 80*1000000\n",
    "#natural death rate\n",
    "delta = 11/1000/365\n",
    "#natural birth_rate https://www.destatis.de/EN/Themes/Society-Environment/Population/Births/Tables/birth-deaths.html;jsessionid=D12FBB60A572EE37276ED5A4E5B23FE5.internet711\n",
    "A = 9.5/1000*N/365\n",
    "# Initial number of exposed, infected and recovered individuals.\n",
    "E0, Ia0, Is0, R0, Ra0, D0 = 500, 100, 3, 0, 2, 0\n",
    "start_date = datetime.date(2020,2,15)\n",
    "last_date = datetime.date(2020,3,30)\n",
    "\n",
    "reported_infected = (3,11,32,58,63,114,149,187,246,528,652,782,1022,1204,1545,1938,2714,3621,4544,5754,7188,9274,12194,15161,19600,22071,24513,28480,29542,33570,37998,43862,\n",
    "                    48781,52683,52740)\n",
    "reported_death = (3,6,8,9,13,17,26,28,44,68,84,94,123,159,206,262,351,433,541,645)\n",
    "reported_recovered = (4, 2, 0, 4, 1, 0, 0, 0, 1, 0, 1, 0, 0, 0, 0, 0, 0, 1, 1, 0, 0, 0, 0, \n",
    " 7, 0, 21, 0, 0, 21, 0, 38, 10, 65, 29, 57, 187, 2837, 257, 2126, \n",
    " 985, 1823, 730, 4289)\n",
    "reported_recovered = getSum(reported_recovered)\n",
    "reported_recovered = fillnull(reported_recovered,abs(last_date - start_date).days)\n",
    "reported_death = fillnull(reported_death,abs(last_date - start_date).days)\n",
    "reported_infected = fillnull(reported_infected,abs(last_date - start_date).days)\n",
    "\n",
    "\n",
    "#q1 : 16.03.2020 School closed\n",
    "#q2 : 23.03.2020 Peaple asked to stay in Home\n",
    "dayQuarantine=(0,30,7,30) \n",
    "contact=(14,6,2,6)\n",
    "\n",
    "bed_capacity = 28000\n",
    "need_help_proz = 5\n",
    "death_rate_proz = 0.2\n",
    "\n",
    "infection_probability_proz=5\n",
    "asymptom_probability_proz=60\n",
    "teta_inc = 5.5\n",
    "teta_sym = 11.5\n",
    "recovery_day= 21\n",
    "\n",
    "# Everyone else, S0, is susceptible to infection initially.\n",
    "S0 = N - (E0 + Ia0 + Is0 + R0 + D0 + Ra0)\n",
    "show_plot()\n",
    "\n"
   ]
  },
  {
   "cell_type": "code",
   "execution_count": 12,
   "metadata": {},
   "outputs": [],
   "source": [
    "#Import Data\n",
    "#import pandas as pd\n",
    "#arr = pd.read_csv('infectedDEraw.dat', sep=';',quotechar='\"', quoting=2,na_values = \"\\\\N\", error_bad_lines=False)\n",
    "#s=\"\"\n",
    "#arr = arr.to_numpy()\n",
    "#for xval in arr:\n",
    "#    s = s + \",\" + str(int(xval[0]))\n",
    "#print(s)\n",
    "#print(arr)\n",
    "\n"
   ]
  },
  {
   "cell_type": "code",
   "execution_count": null,
   "metadata": {},
   "outputs": [],
   "source": []
  },
  {
   "cell_type": "code",
   "execution_count": 13,
   "metadata": {},
   "outputs": [
    {
     "data": {
      "text/plain": [
       "[<matplotlib.lines.Line2D at 0x151f2ec050>]"
      ]
     },
     "execution_count": 13,
     "metadata": {},
     "output_type": "execute_result"
    },
    {
     "data": {
      "image/png": "[encoded data removed]",
      "text/plain": [
       "<Figure size 432x288 with 1 Axes>"
      ]
     },
     "metadata": {
      "needs_background": "light"
     },
     "output_type": "display_data"
    }
   ],
   "source": [
    "#Test\n",
    "#plot sigmoid\n",
    "cx = (2,15,2,50)\n",
    "tx = (0,50,100,150)\n",
    "n = getContact(cx,tx,t)   \n",
    "plt.plot(t, n, color='c', lw=2, label='Contacts Amount')"
   ]
  },
  {
   "cell_type": "code",
   "execution_count": null,
   "metadata": {},
   "outputs": [],
   "source": []
  },
  {
   "cell_type": "code",
   "execution_count": null,
   "metadata": {},
   "outputs": [],
   "source": []
  },
  {
   "cell_type": "code",
   "execution_count": null,
   "metadata": {},
   "outputs": [],
   "source": []
  }
 ],
 "metadata": {
  "kernelspec": {
   "display_name": "Python 3",
   "language": "python",
   "name": "python3"
  },
  "language_info": {
   "codemirror_mode": {
    "name": "ipython",
    "version": 3
   },
   "file_extension": ".py",
   "mimetype": "text/x-python",
   "name": "python",
   "nbconvert_exporter": "python",
   "pygments_lexer": "ipython3",
   "version": "3.7.4"
  }
 },
 "nbformat": 4,
 "nbformat_minor": 4
}
